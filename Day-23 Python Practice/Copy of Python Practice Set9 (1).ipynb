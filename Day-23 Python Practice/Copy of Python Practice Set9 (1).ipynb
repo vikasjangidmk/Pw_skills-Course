{
 "cells": [
  {
   "cell_type": "markdown",
   "metadata": {
    "id": "GY7qLpIsh36E"
   },
   "source": [
    "1. Write a Python program that prompts the user for two integers and divides the first integer by the second integer. If the either variable are none integer then print the value error and  second integer is zero, catch the ZeroDivisionError and print an error message to the user.\n",
    "\n",
    "\n"
   ]
  },
  {
   "cell_type": "code",
   "execution_count": null,
   "metadata": {
    "colab": {
     "base_uri": "https://localhost:8080/"
    },
    "id": "SLGyWJWxiAga",
    "outputId": "b92af5b8-7f79-4fde-aca0-1d7604864bc9"
   },
   "outputs": [
    {
     "name": "stdout",
     "output_type": "stream",
     "text": [
      "Enter the first integer: 6\n",
      "Enter the second integer: 0\n",
      "Error: division by zero. Please enter a non-zero value for the second integer.\n",
      "Enter the first integer: 6\n",
      "Enter the second integer: 8\n",
      "Result:  0.75\n"
     ]
    }
   ],
   "source": [
    "  while True:\n",
    "    try:\n",
    "        x = int(input(\"Enter the first integer: \"))\n",
    "        y = int(input(\"Enter the second integer: \"))\n",
    "        result = x / y\n",
    "        print(\"Result: \", result)\n",
    "        break\n",
    "    except ValueError:\n",
    "        print(\"Please enter integers only.\")\n",
    "    except ZeroDivisionError:\n",
    "        print(\"Error: division by zero. Please enter a non-zero value for the second integer.\")\n",
    "\n"
   ]
  },
  {
   "cell_type": "code",
   "execution_count": null,
   "metadata": {
    "id": "ppK3MkTBiGTd"
   },
   "outputs": [],
   "source": []
  },
  {
   "cell_type": "markdown",
   "metadata": {
    "id": "t5-WUIFqiTpH"
   },
   "source": [
    "2.Write a Python program that prompts the user for a password and checks whether the password meets certain criteria (e.g., at least 8 characters, contains at least one uppercase letter, etc.). If the password does not meet the criteria, raise a custom exception called PasswordError with a custom error message.\n",
    "\n"
   ]
  },
  {
   "cell_type": "code",
   "execution_count": null,
   "metadata": {
    "colab": {
     "base_uri": "https://localhost:8080/"
    },
    "id": "8uCmT9rmiUiQ",
    "outputId": "8f1b5b17-c4e0-4754-d877-586215bf3944"
   },
   "outputs": [
    {
     "name": "stdout",
     "output_type": "stream",
     "text": [
      "Enter a password: iNeuron@123\n",
      "Password is valid.\n"
     ]
    }
   ],
   "source": [
    "class PasswordError(Exception):\n",
    "    pass\n",
    "\n",
    "def check_password(password):\n",
    "    # Check password criteria\n",
    "    if len(password) < 8:\n",
    "        raise PasswordError(\"Error: password must be at least 8 characters long.\")\n",
    "    elif not any(char.isupper() for char in password):\n",
    "        raise PasswordError(\"Error: password must contain at least one uppercase letter.\")\n",
    "    elif not any(char.isdigit() for char in password):\n",
    "        raise PasswordError(\"Error: password must contain at least one digit.\")\n",
    "    elif not any(char in ['$', '#', '@'] for char in password):\n",
    "        raise PasswordError(\"Error: password must contain at least one of the following special characters: $ # @\")\n",
    "    else:\n",
    "        print(\"Password is valid.\")\n",
    "\n",
    "# Prompt user for password\n",
    "password = input(\"Enter a password: \")\n",
    "\n",
    "# Check password\n",
    "try:\n",
    "    check_password(password)\n",
    "except PasswordError as e:\n",
    "    print(e)\n"
   ]
  },
  {
   "cell_type": "code",
   "execution_count": null,
   "metadata": {
    "id": "876m9NG1iZof"
   },
   "outputs": [],
   "source": []
  },
  {
   "cell_type": "markdown",
   "metadata": {
    "id": "pRQV6rlMjDF7"
   },
   "source": [
    "3.Write a Python program that prompts the user for a number and calculates the square root of the number using the math.sqrt() function. If the number is negative, raise a ValueError with a custom error message.\n"
   ]
  },
  {
   "cell_type": "code",
   "execution_count": null,
   "metadata": {
    "colab": {
     "base_uri": "https://localhost:8080/"
    },
    "id": "IzlUC04CjHcT",
    "outputId": "6b2df071-8ece-4a40-9452-73c7ae51bd63"
   },
   "outputs": [
    {
     "name": "stdout",
     "output_type": "stream",
     "text": [
      "Enter a list of strings separated by commas: h,s,k,d,l\n",
      "Sorted list: ['d', 'h', 'k', 'l', 's']\n"
     ]
    }
   ],
   "source": [
    "while True:\n",
    "    try:\n",
    "        # Prompt user for list of strings\n",
    "        string_list = input(\"Enter a list of strings separated by commas: \").split(\",\")\n",
    "        \n",
    "        # Sort list in alphabetical order\n",
    "        sorted_list = sorted(string_list)\n",
    "        \n",
    "        # Check if any string contains non-alphabetic characters\n",
    "        for string in sorted_list:\n",
    "            if not string.isalpha():\n",
    "                raise TypeError(\"Error: list contains non-alphabetic characters.\")\n",
    "        \n",
    "        # Print sorted list\n",
    "        print(\"Sorted list:\", sorted_list)\n",
    "        break\n",
    "    except TypeError as e:\n",
    "        print(e)\n"
   ]
  },
  {
   "cell_type": "code",
   "execution_count": null,
   "metadata": {
    "id": "Layz9oWVjMRQ"
   },
   "outputs": [],
   "source": []
  },
  {
   "cell_type": "markdown",
   "metadata": {
    "id": "N5AEVafukyV2"
   },
   "source": [
    "4.Write a Python program that prompts the user for a number and calculates the square root of the number using the math.sqrt() function. If the number is negative, raise a ValueError with a custom error message."
   ]
  },
  {
   "cell_type": "code",
   "execution_count": null,
   "metadata": {
    "colab": {
     "base_uri": "https://localhost:8080/"
    },
    "id": "7X-Sh1P-lMvF",
    "outputId": "151a8554-02af-4553-a803-ed7e6f4dff86"
   },
   "outputs": [
    {
     "name": "stdout",
     "output_type": "stream",
     "text": [
      "Enter a number: -6\n",
      "Error: number cannot be negative.\n",
      "Enter a number: 64\n",
      "The square root of 64.0 is 8.0\n"
     ]
    }
   ],
   "source": [
    "import math\n",
    "\n",
    "while True:\n",
    "    try:\n",
    "        # Prompt user for number\n",
    "        num = float(input(\"Enter a number: \"))\n",
    "        \n",
    "        # Check if number is negative\n",
    "        if num < 0:\n",
    "            raise ValueError(\"Error: number cannot be negative.\")\n",
    "        \n",
    "        # Calculate square root\n",
    "        result = math.sqrt(num)\n",
    "        print(\"The square root of\", num, \"is\", result)\n",
    "        break\n",
    "    except ValueError as e:\n",
    "        print(e)\n"
   ]
  },
  {
   "cell_type": "code",
   "execution_count": null,
   "metadata": {
    "id": "0nMmRYJHnDn4"
   },
   "outputs": [],
   "source": []
  },
  {
   "cell_type": "markdown",
   "metadata": {
    "id": "8SnOoQ8unJxy"
   },
   "source": [
    "5.Write a Python program that prompts the user for a list of integers and calculates the average of the list. If the list is empty, raise a ValueError with a custom error message.\n"
   ]
  },
  {
   "cell_type": "code",
   "execution_count": null,
   "metadata": {
    "colab": {
     "base_uri": "https://localhost:8080/"
    },
    "id": "a0nxII2KnMXA",
    "outputId": "5d083d15-22a4-4404-d9e1-a79dfce82647"
   },
   "outputs": [
    {
     "name": "stdout",
     "output_type": "stream",
     "text": [
      "Enter a list of integers (separated by spaces): 6 8 4 6 5 9 0 3\n",
      "Average of the list: 5.125\n"
     ]
    }
   ],
   "source": [
    "try:\n",
    "    # Prompt user for a list of integers\n",
    "    num_list = [int(num) for num in input(\"Enter a list of integers (separated by spaces): \").split()]\n",
    "    \n",
    "    # Calculate the average of the list\n",
    "    avg = sum(num_list) / len(num_list)\n",
    "    print(\"Average of the list:\", avg)\n",
    "\n",
    "    # Raise a ValueError if the list is empty\n",
    "    if not num_list:\n",
    "        raise ValueError(\"List is empty\")\n",
    "except ValueError as e:\n",
    "    print(\"Error:\", e)"
   ]
  },
  {
   "cell_type": "code",
   "execution_count": null,
   "metadata": {
    "id": "sZHrvKyxnkpt"
   },
   "outputs": [],
   "source": []
  },
  {
   "cell_type": "markdown",
   "metadata": {
    "id": "eylW18vIoM4Y"
   },
   "source": [
    "6.Write a function that takes a string as input and returns the number of vowels in the string. If the input is not a string, raise a TypeError with a custom error message.\n"
   ]
  },
  {
   "cell_type": "code",
   "execution_count": null,
   "metadata": {
    "id": "Y-bQ-o8xoaqG"
   },
   "outputs": [],
   "source": [
    "def count_vowels(string):\n",
    "    try:\n",
    "        # Check if input is a string\n",
    "        if not isinstance(string, str):\n",
    "            raise TypeError(\"Input must be a string\")\n",
    "        \n",
    "        # Count and return the number of vowels in the string\n",
    "        vowels = \"aeiouAEIOU\"\n",
    "        return sum([1 for char in string if char in vowels])\n",
    "    except TypeError as e:\n",
    "        print(\"Error:\", e)"
   ]
  },
  {
   "cell_type": "code",
   "execution_count": null,
   "metadata": {
    "colab": {
     "base_uri": "https://localhost:8080/"
    },
    "id": "ewC0UKjlpEo-",
    "outputId": "0845a858-6d1b-4037-a072-e43a1bdb7198"
   },
   "outputs": [
    {
     "name": "stdout",
     "output_type": "stream",
     "text": [
      "Error: Input must be a string\n"
     ]
    }
   ],
   "source": [
    "count_vowels(4)"
   ]
  },
  {
   "cell_type": "code",
   "execution_count": null,
   "metadata": {
    "colab": {
     "base_uri": "https://localhost:8080/"
    },
    "id": "6koRfyZQpO54",
    "outputId": "6260f3d4-cba9-4a50-d312-821c15b49c2f"
   },
   "outputs": [
    {
     "data": {
      "text/plain": [
       "5"
      ]
     },
     "execution_count": 28,
     "metadata": {},
     "output_type": "execute_result"
    }
   ],
   "source": [
    "count_vowels(\"aieoujdnj\")"
   ]
  },
  {
   "cell_type": "code",
   "execution_count": null,
   "metadata": {
    "colab": {
     "base_uri": "https://localhost:8080/"
    },
    "id": "Z4tUYTXRprm0",
    "outputId": "0befa696-49d1-4797-93b5-8822432fca18"
   },
   "outputs": [
    {
     "data": {
      "text/plain": [
       "6"
      ]
     },
     "execution_count": 30,
     "metadata": {},
     "output_type": "execute_result"
    }
   ],
   "source": [
    "count_vowels(\"this is a function\")"
   ]
  },
  {
   "cell_type": "code",
   "execution_count": null,
   "metadata": {
    "id": "Mnp6jLZbp2fC"
   },
   "outputs": [],
   "source": []
  },
  {
   "cell_type": "markdown",
   "metadata": {
    "id": "GIisexgRqU0s"
   },
   "source": [
    "7.write a python program how to handle simple runtime error?"
   ]
  },
  {
   "cell_type": "code",
   "execution_count": null,
   "metadata": {
    "colab": {
     "base_uri": "https://localhost:8080/"
    },
    "id": "aDz2-1yyqVt-",
    "outputId": "30baf26c-8b67-443c-f7ff-3543a73126e6"
   },
   "outputs": [
    {
     "name": "stdout",
     "output_type": "stream",
     "text": [
      "Second element = 2\n",
      "An error occurred\n"
     ]
    }
   ],
   "source": [
    "a = [1, 2, 3]\n",
    "try:\n",
    "    print (\"Second element = %d\" %(a[1]))\n",
    "    # Throws error since there are only 3 elements in array\n",
    "    print (\"Fourth element = %d\" %(a[3]))\n",
    "except:\n",
    "    print (\"An error occurred\")"
   ]
  },
  {
   "cell_type": "markdown",
   "metadata": {
    "id": "j8lcC7sNrJoe"
   },
   "source": [
    "8.write a program how to handle  multiple errors with one\n",
    "answer:# Program to handle multiple errors with one"
   ]
  },
  {
   "cell_type": "code",
   "execution_count": null,
   "metadata": {
    "colab": {
     "base_uri": "https://localhost:8080/"
    },
    "id": "jXj8CjhcrWtn",
    "outputId": "8ef38bb0-dd75-4d69-fdef-7b0864a21272"
   },
   "outputs": [
    {
     "name": "stdout",
     "output_type": "stream",
     "text": [
      "ZeroDivisionError Occurred and Handled\n"
     ]
    }
   ],
   "source": [
    "def fun(a):\n",
    "\tif a < 4:\n",
    "\t\t# throws ZeroDivisionError for a = 3\n",
    "\t\tb = a/(a-3)\n",
    "\t# throws NameError if a >= 4\n",
    "\tprint(\"Value of b = \", b)\n",
    "\t\n",
    "try:\n",
    "\tfun(3)\n",
    "\tfun(5)\n",
    "# note that braces () are necessary here for\n",
    "# multiple exceptions\n",
    "except ZeroDivisionError:\n",
    "\tprint(\"ZeroDivisionError Occurred and Handled\")\n",
    "except NameError:\n",
    "\tprint(\"NameError Occurred and Handled\")\n",
    " "
   ]
  },
  {
   "cell_type": "code",
   "execution_count": null,
   "metadata": {
    "id": "tmCNCBQwr41P"
   },
   "outputs": [],
   "source": []
  },
  {
   "cell_type": "markdown",
   "metadata": {
    "id": "eRJK4nxWsaHr"
   },
   "source": [
    "9. write a program to print the reciprocal of even numbers\n",
    "note:we might want to run a certain block of code if the code block inside try runs without any errors.\n",
    "For these cases, you can use the optional else keyword with the try statement."
   ]
  },
  {
   "cell_type": "code",
   "execution_count": null,
   "metadata": {
    "colab": {
     "base_uri": "https://localhost:8080/"
    },
    "id": "nicFMH_ssgo-",
    "outputId": "13fa5105-2a9d-449e-e166-b61c0c033552"
   },
   "outputs": [
    {
     "name": "stdout",
     "output_type": "stream",
     "text": [
      "Enter a number: 87\n",
      "Not an even number!\n"
     ]
    }
   ],
   "source": [
    "try:\n",
    "    num = int(input(\"Enter a number: \"))\n",
    "    assert num % 2 == 0\n",
    "except:\n",
    "    print(\"Not an even number!\")\n",
    "else:\n",
    "    reciprocal = 1/num\n",
    "    print(reciprocal)"
   ]
  },
  {
   "cell_type": "code",
   "execution_count": null,
   "metadata": {
    "id": "s_0b60c4s2A8"
   },
   "outputs": [],
   "source": []
  },
  {
   "cell_type": "markdown",
   "metadata": {
    "id": "QHQXWhqItHud"
   },
   "source": [
    "10.How to handle exceptions using the try, except, and finally statements write code"
   ]
  },
  {
   "cell_type": "code",
   "execution_count": null,
   "metadata": {
    "colab": {
     "base_uri": "https://localhost:8080/"
    },
    "id": "x5ynhroKtwgZ",
    "outputId": "64f9151a-292e-4d73-ccd4-cd8850fae46b"
   },
   "outputs": [
    {
     "name": "stdout",
     "output_type": "stream",
     "text": [
      "Enter a number: 98\n",
      "Result: 0.02040816326530612\n",
      "Thank you for using this program!\n"
     ]
    }
   ],
   "source": [
    "try:\n",
    "    # Ask the user to enter a number\n",
    "    num = int(input(\"Enter a number: \"))\n",
    "    \n",
    "    # Divide the number by 2\n",
    "    result = 2 / num\n",
    "    \n",
    "    # Print the result\n",
    "    print(\"Result:\", result)\n",
    "except ValueError:\n",
    "    # Handle the case where the user did not enter a valid number\n",
    "    print(\"Error: You must enter a valid number\")\n",
    "except ZeroDivisionError:\n",
    "    # Handle the case where the user entered 0 as the number\n",
    "    print(\"Error: You cannot divide by zero\")\n",
    "finally:\n",
    "    # Clean up resources or run some final code\n",
    "    print(\"Thank you for using this program!\")\n"
   ]
  },
  {
   "cell_type": "code",
   "execution_count": null,
   "metadata": {
    "id": "M2zHW_8-t2e-"
   },
   "outputs": [],
   "source": []
  }
 ],
 "metadata": {
  "colab": {
   "provenance": []
  },
  "kernelspec": {
   "display_name": "Python 3",
   "name": "python3"
  },
  "language_info": {
   "name": "python"
  }
 },
 "nbformat": 4,
 "nbformat_minor": 0
}
